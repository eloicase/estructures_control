{
 "cells": [
  {
   "cell_type": "markdown",
   "id": "092ff389",
   "metadata": {},
   "source": [
    "## sprint-3-T03\n",
    "### Eloi Canals"
   ]
  },
  {
   "cell_type": "markdown",
   "id": "19420e7c",
   "metadata": {},
   "source": [
    "[x] Nivell 1. Exercici 1. crear un programa que et classifiqui una variable numèrica en funció de l’escala Suspès/Aprovat/Notable/Excel·lent."
   ]
  },
  {
   "cell_type": "code",
   "execution_count": 1,
   "id": "6e875c7a",
   "metadata": {},
   "outputs": [
    {
     "name": "stdout",
     "output_type": "stream",
     "text": [
      "Excel·lent\n"
     ]
    }
   ],
   "source": [
    "nota = 9\n",
    "if nota > 10 or nota < 0:\n",
    "\tprint(\"Nota erronia\")\n",
    "elif nota < 5:\n",
    "\tprint(\"Suspès\")\n",
    "elif nota >= 5 and nota < 7:\n",
    "\tprint(\"Aprovat\")\n",
    "elif nota >= 7 and nota < 9:\n",
    "\tprint(\"Notable\")\n",
    "elif nota >= 9:\n",
    "\tprint(\"Excel·lent\")"
   ]
  },
  {
   "cell_type": "markdown",
   "id": "5063f94f",
   "metadata": {},
   "source": [
    "[x] Nivell 1. Exercici 2. Crea un programa que et pregunti dos números. T’ha de mostrar un missatge dient si el primer és més gran, el segon és més gran o són iguals."
   ]
  },
  {
   "cell_type": "code",
   "execution_count": 1,
   "id": "00aac945",
   "metadata": {},
   "outputs": [
    {
     "name": "stdout",
     "output_type": "stream",
     "text": [
      "Introdueix el primer numero: 6\n",
      "Introdueix el segon numero: 3\n",
      "El numero 6 es mes gran que 3\n"
     ]
    }
   ],
   "source": [
    "num1 = int(input(\"Introdueix el primer numero: \"))\n",
    "num2 = int(input(\"Introdueix el segon numero: \"))\n",
    "if num1 > num2:\n",
    "\tprint (f\"El numero {num1} es mes gran que {num2}\")\n",
    "elif num2 > num1:\n",
    "\tprint (f\"El numero {num2} es mes gran que {num1}\")\n",
    "elif num1 == num2:\n",
    "\tprint(\"Els dos numeros son iguals\")"
   ]
  },
  {
   "cell_type": "markdown",
   "id": "19f27ce8",
   "metadata": {},
   "source": [
    "[x] Nivell 1. Exercici 3. programa que et pregunti el teu nom, i et demani un número. Si el número és 0, hauria de mostrar un missatge d’error. En cas contrari, hauria de mostrar el nom repetit tants cops com indiqui el número"
   ]
  },
  {
   "cell_type": "code",
   "execution_count": 6,
   "id": "37aa3e52",
   "metadata": {},
   "outputs": [
    {
     "name": "stdout",
     "output_type": "stream",
     "text": [
      "Introdueix el teu nom: Pepet\n",
      "Introdueix un numero: 12\n",
      "Pepet Pepet Pepet Pepet Pepet Pepet Pepet Pepet Pepet Pepet Pepet Pepet \n"
     ]
    }
   ],
   "source": [
    "myname = input(\"Introdueix el teu nom: \")\n",
    "num= int(input(\"Introdueix un numero: \"))\n",
    "result = \"\"\n",
    "if num == 0:\n",
    "    print(\"Error. El numero ha de ser mes gran que 0.\")\n",
    "else:\n",
    "    for i in range(num):\n",
    "        result = result + myname + \" \"\n",
    "print (result)"
   ]
  },
  {
   "cell_type": "markdown",
   "id": "a9043546",
   "metadata": {},
   "source": [
    "[x] Nivell 1. Exercici 4. Programa que donada una llista qualsevol, et digui si es simètrica o no. Si ho és, que et digui quants elements té."
   ]
  },
  {
   "cell_type": "code",
   "execution_count": 5,
   "id": "d5e3fbe6",
   "metadata": {},
   "outputs": [
    {
     "name": "stdout",
     "output_type": "stream",
     "text": [
      "0\n",
      "1\n",
      "jj= 9: conte 1\n",
      "1\n",
      "2\n",
      "jj= 8: conte 2\n",
      "Element 2 = 2.\n",
      "2\n",
      "3\n",
      "jj= 7: conte 3\n",
      "Element 3 = 3.\n",
      "3\n",
      "4\n",
      "jj= 6: conte 4\n",
      "Element 4 = 4.\n",
      "4\n",
      "5\n",
      "jj= 5: conte 5\n",
      "Element 5 = 5.\n",
      "5\n",
      "5\n",
      "jj= 4: conte 5\n",
      "Element 5 = 5.\n",
      "6\n",
      "4\n",
      "jj= 3: conte 4\n",
      "Element 4 = 4.\n",
      "7\n",
      "3\n",
      "jj= 2: conte 3\n",
      "Element 3 = 3.\n",
      "8\n",
      "2\n",
      "jj= 1: conte 2\n",
      "Element 2 = 2.\n",
      "9\n",
      "1\n",
      "jj= 0: conte 1\n",
      "La llista te 10 elements.\n"
     ]
    }
   ],
   "source": [
    "mylist = [1,2,3,4,5,5,4,3,2,1]\n",
    "\n",
    "j = len(mylist) - 1\n",
    "for i in enumerate(mylist):\n",
    "\t#print (i)\n",
    "\t#print (mylist[0])\n",
    "\tprint (i[0])\n",
    "\tprint (i[1])\n",
    "\tjj = j - i[0]\n",
    "\tprint (f\"jj= {jj}: conte {mylist[jj]}\")\n",
    "\t\n",
    "\tif i[1] != mylist[j]:\n",
    "\t\tsim = False\n",
    "\t\tprint(f\"Element {i[1]} = {mylist[jj]}.\")\n",
    "\telse:\n",
    "\t\tsim = True\n",
    "\n",
    "if sim:\n",
    "\tprint(f\"La llista te {len(mylist)} elements.\")\n",
    "else:\n",
    "\tprint (\"La llista no es simetrica\")"
   ]
  },
  {
   "cell_type": "markdown",
   "id": "bc0302d6",
   "metadata": {},
   "source": [
    "[x] Nivell 1. Exercici 5. Programa que donada una llista, et digui quants números coincideixen amb la seva posició. Per exemple [3,4,2,0,2,3,6] el 2 i el 6 coincideixen."
   ]
  },
  {
   "cell_type": "code",
   "execution_count": 25,
   "id": "29ca970a",
   "metadata": {},
   "outputs": [
    {
     "name": "stdout",
     "output_type": "stream",
     "text": [
      "Element nº2 conté el valor2\n",
      "Element nº6 conté el valor6\n"
     ]
    }
   ],
   "source": [
    "mylist = [3,4,2,0,2,3,6]\n",
    "\n",
    "for i in enumerate(mylist):\n",
    "\tif i[0] == i[1]:\n",
    "\t\tsim = False\n",
    "\t\tprint(f\"Element nº{i[0]} conté el valor {i[1]}\")"
   ]
  },
  {
   "cell_type": "code",
   "execution_count": null,
   "id": "edbf45e0",
   "metadata": {},
   "outputs": [],
   "source": []
  }
 ],
 "metadata": {
  "kernelspec": {
   "display_name": "Python 3",
   "language": "python",
   "name": "python3"
  },
  "language_info": {
   "codemirror_mode": {
    "name": "ipython",
    "version": 3
   },
   "file_extension": ".py",
   "mimetype": "text/x-python",
   "name": "python",
   "nbconvert_exporter": "python",
   "pygments_lexer": "ipython3",
   "version": "3.8.8"
  }
 },
 "nbformat": 4,
 "nbformat_minor": 5
}
